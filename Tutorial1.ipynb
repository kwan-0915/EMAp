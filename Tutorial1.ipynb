{
 "cells": [
  {
   "cell_type": "markdown",
   "metadata": {},
   "source": [
    "# Topological Data Analysis with Persistent Homology, $1^\\text{st}$ tutorial\n",
    "https://raphaeltinarrage.github.io/EMAp.html\n",
    "## Lesson IV: Simplicial complexes and topological invariants\n",
    "Last update: 16/01/2021"
   ]
  },
  {
   "cell_type": "code",
   "execution_count": 1,
   "metadata": {},
   "outputs": [],
   "source": [
    "import gudhi \n",
    "import numpy as np\n",
    "import networkx as nx"
   ]
  },
  {
   "cell_type": "code",
   "execution_count": 2,
   "metadata": {},
   "outputs": [],
   "source": [
    "def PrintSimplices(simpcomplex):\n",
    "    simplices = {i:[] for i in range(simpcomplex.dimension()+1)}\n",
    "    for filtration in simpcomplex.get_simplices():\n",
    "        simplex = filtration[0]\n",
    "        simplices[len(simplex)-1].append(simplex)\n",
    "    print('The simplicial complex contains the following simplices: ')\n",
    "    for i in range(simpcomplex.dimension()+1):\n",
    "        print('Dimension '+repr(i)+': ', end=\"\")\n",
    "        print(*simplices[i], sep = \", \")\n",
    "        \n",
    "def DrawSimplicialComplex(simpcomplex):\n",
    "    nodes=[]; edges=[]\n",
    "    for filtr in simpcomplex.get_skeleton(1):\n",
    "        simplex = filtr[0]\n",
    "        if len(simplex)==1:\n",
    "            nodes.append(simplex[0])\n",
    "        if len(simplex)==2:\n",
    "            edges.append(simplex)\n",
    "    G = nx.Graph()\n",
    "    G.add_nodes_from(nodes)\n",
    "    G.add_edges_from(edges)\n",
    "    nx.draw(G, with_labels=True, font_weight='bold', node_color='magenta')\n",
    "    \n",
    "def NumberOfConnectedComponents(simpcomplex, verbose = 'True'):\n",
    "    simpcomplex.compute_persistence()\n",
    "    nbr_components = simpcomplex.betti_numbers()[0]\n",
    "    if verbose: print('The simplicial complex admits '+repr(nbr_components)+' connected component(s).')\n",
    "    return nbr_components\n",
    "\n",
    "def EulerCharacteristic(simpcomplex, verbose = 'True'):\n",
    "    num_simplices = [0 for i in range(simpcomplex.dimension()+1)]\n",
    "    for filtration in simpcomplex.get_simplices():\n",
    "        simplex = filtration[0]\n",
    "        num_simplices[len(simplex)-1]+=1\n",
    "    Euler_characteristic = sum(num_simplices[::2]) - sum(num_simplices[1::2])\n",
    "    if verbose: print('The simplicial complex has Euler characteristic equal to '+repr(Euler_characteristic)+'.')\n",
    "    return Euler_characteristic"
   ]
  },
  {
   "cell_type": "markdown",
   "metadata": {},
   "source": [
    "## Triangulation of the circle"
   ]
  },
  {
   "cell_type": "markdown",
   "metadata": {},
   "source": [
    "We start by considering a simplicial complex $S$ that is a triangulation of the circle.\n",
    "It is given by:\n",
    "- three vertices: $0$,$1$ and $2$,\n",
    "- three edges: $[0,1]$, $[1,2]$ and $[2,0]$.\n"
   ]
  },
  {
   "cell_type": "code",
   "execution_count": 3,
   "metadata": {},
   "outputs": [],
   "source": [
    "# We build a SimplexTree structure on gudhi\n",
    "\n",
    "simpcomplex = gudhi.SimplexTree()"
   ]
  },
  {
   "cell_type": "code",
   "execution_count": 4,
   "metadata": {},
   "outputs": [
    {
     "data": {
      "text/plain": [
       "True"
      ]
     },
     "execution_count": 4,
     "metadata": {},
     "output_type": "execute_result"
    }
   ],
   "source": [
    "# We add the vertices\n",
    "\n",
    "simpcomplex.insert([0])\n",
    "simpcomplex.insert([1])\n",
    "simpcomplex.insert([2])"
   ]
  },
  {
   "cell_type": "code",
   "execution_count": 5,
   "metadata": {},
   "outputs": [
    {
     "name": "stdout",
     "output_type": "stream",
     "text": [
      "The simplicial complex contains the following simplices: \n",
      "Dimension 0: [0], [1], [2]\n"
     ]
    }
   ],
   "source": [
    "# Let us verify that the vertices are correctly added\n",
    "\n",
    "PrintSimplices(simpcomplex)"
   ]
  },
  {
   "cell_type": "code",
   "execution_count": 6,
   "metadata": {},
   "outputs": [
    {
     "data": {
      "text/plain": [
       "True"
      ]
     },
     "execution_count": 6,
     "metadata": {},
     "output_type": "execute_result"
    }
   ],
   "source": [
    "# We add the edges\n",
    "\n",
    "simpcomplex.insert([0,1])\n",
    "simpcomplex.insert([1,2])\n",
    "simpcomplex.insert([2,0])"
   ]
  },
  {
   "cell_type": "code",
   "execution_count": 7,
   "metadata": {},
   "outputs": [
    {
     "name": "stdout",
     "output_type": "stream",
     "text": [
      "The simplicial complex contains the following simplices: \n",
      "Dimension 0: [0], [1], [2]\n",
      "Dimension 1: [0, 1], [0, 2], [1, 2]\n"
     ]
    }
   ],
   "source": [
    "# Let us verify that the edges are correctly added\n",
    "\n",
    "PrintSimplices(simpcomplex)"
   ]
  },
  {
   "cell_type": "code",
   "execution_count": 8,
   "metadata": {},
   "outputs": [
    {
     "name": "stdout",
     "output_type": "stream",
     "text": [
      "The simplicial complex contains the following simplices: \n",
      "Dimension 0: [0], [1], [2]\n",
      "Dimension 1: [0, 1], [0, 2], [1, 2]\n"
     ]
    }
   ],
   "source": [
    "# In Gudhi, if a simplex is added to the complex, then all its faces are\n",
    "# Hence we can use the simpler code:\n",
    "\n",
    "simpcomplex2 = gudhi.SimplexTree()\n",
    "\n",
    "simpcomplex2.insert([0,1])\n",
    "simpcomplex2.insert([1,2])\n",
    "simpcomplex2.insert([2,0])\n",
    "\n",
    "PrintSimplices(simpcomplex2)"
   ]
  },
  {
   "cell_type": "code",
   "execution_count": 9,
   "metadata": {},
   "outputs": [
    {
     "data": {
      "image/png": "[encoded data removed]",
      "text/plain": [
       "<Figure size 432x288 with 1 Axes>"
      ]
     },
     "metadata": {},
     "output_type": "display_data"
    }
   ],
   "source": [
    "# The following function allows to draw the simplicial complex (uses the library networkx)\n",
    "\n",
    "DrawSimplicialComplex(simpcomplex)"
   ]
  },
  {
   "cell_type": "markdown",
   "metadata": {},
   "source": [
    "## Computing topological invariants"
   ]
  },
  {
   "cell_type": "code",
   "execution_count": 10,
   "metadata": {},
   "outputs": [
    {
     "name": "stdout",
     "output_type": "stream",
     "text": [
      "The simplicial complex admits 1 connected component(s).\n"
     ]
    },
    {
     "data": {
      "text/plain": [
       "1"
      ]
     },
     "execution_count": 10,
     "metadata": {},
     "output_type": "execute_result"
    }
   ],
   "source": [
    "# The following function returns the number of connected components of the complex.\n",
    "# Use verbose = 'True' or verbose = 'False' to print the output sentence.\n",
    "\n",
    "NumberOfConnectedComponents(simpcomplex, verbose = 'True')"
   ]
  },
  {
   "cell_type": "code",
   "execution_count": 11,
   "metadata": {},
   "outputs": [
    {
     "name": "stdout",
     "output_type": "stream",
     "text": [
      "The simplicial complex has Euler characteristic equal to 0.\n"
     ]
    },
    {
     "data": {
      "text/plain": [
       "0"
      ]
     },
     "execution_count": 11,
     "metadata": {},
     "output_type": "execute_result"
    }
   ],
   "source": [
    "# The following function returns the Euler characteristic of the complex.\n",
    "# Use verbose = 'True' or verbose = 'False' to print the output sentence.\n",
    "\n",
    "EulerCharacteristic(simpcomplex, verbose = 'True')"
   ]
  },
  {
   "cell_type": "markdown",
   "metadata": {},
   "source": [
    "# Exercise 22"
   ]
  },
  {
   "cell_type": "markdown",
   "metadata": {},
   "source": [
    "Build triangulations of the alphabet letters, and compute their Euler characteristic.\n",
    "\n",
    "Given two letters that are homotopy equivalent, is it true thar their Euler characteristic are equal?\n",
    "Given two letters that are not homotopy equivalent, is it true thar their Euler characteristic are different?"
   ]
  },
  {
   "cell_type": "code",
   "execution_count": 12,
   "metadata": {},
   "outputs": [
    {
     "name": "stdout",
     "output_type": "stream",
     "text": [
      "The simplicial complex has Euler characteristic equal to 0.\n"
     ]
    },
    {
     "data": {
      "text/plain": [
       "0"
      ]
     },
     "execution_count": 12,
     "metadata": {},
     "output_type": "execute_result"
    },
    {
     "data": {
      "image/png": "[encoded data removed]",
      "text/plain": [
       "<Figure size 432x288 with 1 Axes>"
      ]
     },
     "metadata": {},
     "output_type": "display_data"
    }
   ],
   "source": [
    "# We build a triangulation of the letter A\n",
    "\n",
    "simpcomplex = gudhi.SimplexTree()\n",
    "\n",
    "simpcomplex.insert([0,1])\n",
    "simpcomplex.insert([1,2])\n",
    "simpcomplex.insert([2,0])\n",
    "simpcomplex.insert([3,0])\n",
    "simpcomplex.insert([4,1])\n",
    "\n",
    "DrawSimplicialComplex(simpcomplex)\n",
    "EulerCharacteristic(simpcomplex)"
   ]
  },
  {
   "cell_type": "markdown",
   "metadata": {},
   "source": [
    "# Exercise 23"
   ]
  },
  {
   "cell_type": "markdown",
   "metadata": {},
   "source": [
    "For every $n$, triangulate the bouquet of $n$ circles. Compute their Euler characteristic. "
   ]
  },
  {
   "cell_type": "markdown",
   "metadata": {},
   "source": [
    "# Exercise 24"
   ]
  },
  {
   "cell_type": "markdown",
   "metadata": {},
   "source": [
    "Implement the triangulation of the torus given during the lesson.\n",
    "Compute its Euler characteristic."
   ]
  },
  {
   "cell_type": "markdown",
   "metadata": {},
   "source": [
    "# Exercise 25"
   ]
  },
  {
   "cell_type": "markdown",
   "metadata": {},
   "source": [
    "A *Erdős–Rényi random graph $\\mathcal{G}(n,p)$* is a simplicial complex obtained as follows:\n",
    "- add $n$ vertices $1,...,n$,\n",
    "- add each edge $[a,b]$, where $a,b \\in [1,n]$, to the complex with probability $p$.\n",
    "\n",
    "Builds a function that, given $n$ and $p$, outputs a simplicial complex $\\mathcal{G}(n,p)$.\n",
    "Observe the influence of $p$ on the number of connected components of $\\mathcal{G}(10,p)$ and $\\mathcal{G}(100,p)$.\n",
    "\n",
    "*Hint:* If $V$ is a list, `itertools.combinations(V,2)` can be used to generate all the non-ordered pairs `[a,b]` in `V` (package `itertools`).\n",
    "The command `random.random()` can be used to generate a random number between 0 and 1, and `random.random()<p` is  `True` with probability  `p` (package `random`)."
   ]
  },
  {
   "cell_type": "code",
   "execution_count": 13,
   "metadata": {},
   "outputs": [],
   "source": [
    "import itertools\n",
    "import random"
   ]
  }
 ],
 "metadata": {
  "kernelspec": {
   "display_name": "Python 3",
   "language": "python",
   "name": "python3"
  },
  "language_info": {
   "codemirror_mode": {
    "name": "ipython",
    "version": 3
   },
   "file_extension": ".py",
   "mimetype": "text/x-python",
   "name": "python",
   "nbconvert_exporter": "python",
   "pygments_lexer": "ipython3",
   "version": "3.7.8"
  }
 },
 "nbformat": 4,
 "nbformat_minor": 2
}
